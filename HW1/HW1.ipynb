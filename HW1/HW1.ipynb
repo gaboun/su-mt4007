{
 "cells": [
  {
   "cell_type": "markdown",
   "metadata": {},
   "source": [
    "# Homework 1\n",
    "My name is Gabriel and I have just recently picked up my studies again to finish my bachelor in mathematical statistics. \n",
    "\n",
    "I did take the intro course to python a couple years ago and I remember we used a lot of R in the statistical courses, here at SU. Since then, I have only coded basic scripts in python at my work with the help of ChatGPT.\n"
   ]
  }
 ],
 "metadata": {
  "kernelspec": {
   "display_name": ".venv",
   "language": "python",
   "name": "python3"
  },
  "language_info": {
   "name": "python",
   "version": "3.12.7"
  }
 },
 "nbformat": 4,
 "nbformat_minor": 2
}
